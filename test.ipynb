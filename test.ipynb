{
 "cells": [
  {
   "cell_type": "code",
   "execution_count": 1,
   "metadata": {},
   "outputs": [],
   "source": [
    "import google.generativeai as genai"
   ]
  },
  {
   "cell_type": "code",
   "execution_count": 6,
   "metadata": {},
   "outputs": [],
   "source": [
    "def read_api_key(path):\n",
    "    with open(path, 'r') as f:\n",
    "        return f.read().strip()\n",
    "\n",
    "GOOGLE_API_KEY=read_api_key('api.key')\n",
    "genai.configure(api_key=GOOGLE_API_KEY)"
   ]
  },
  {
   "cell_type": "code",
   "execution_count": 13,
   "metadata": {},
   "outputs": [
    {
     "name": "stdout",
     "output_type": "stream",
     "text": [
      "A computer is like a very smart friend who can follow instructions quickly, solve problems\n",
      ", and remember information for you.\n"
     ]
    }
   ],
   "source": [
    "model = genai.GenerativeModel('gemini-pro')\n",
    "\n",
    "chat = model.start_chat(history=[])\n",
    "response = chat.send_message(\"In one sentence, explain how a computer works to a young child.\", stream=True)\n",
    "\n",
    "for chunk in response:\n",
    "  print(chunk.text)"
   ]
  },
  {
   "cell_type": "code",
   "execution_count": 14,
   "metadata": {},
   "outputs": [
    {
     "name": "stdout",
     "output_type": "stream",
     "text": [
      "In your last message, you said:\n",
      "\n",
      "> In one sentence, explain how\n",
      " a computer works to a young child.\n",
      "\n",
      "You were asking me to provide a simple and concise explanation of how a computer works, suitable for a young child to\n",
      " understand.\n"
     ]
    }
   ],
   "source": [
    "response = chat.send_message(\"What did I say in the last message?\", stream=True)\n",
    "\n",
    "for chunk in response:\n",
    "  print(chunk.text)"
   ]
  },
  {
   "cell_type": "code",
   "execution_count": null,
   "metadata": {},
   "outputs": [],
   "source": []
  }
 ],
 "metadata": {
  "kernelspec": {
   "display_name": "everything",
   "language": "python",
   "name": "python3"
  },
  "language_info": {
   "codemirror_mode": {
    "name": "ipython",
    "version": 3
   },
   "file_extension": ".py",
   "mimetype": "text/x-python",
   "name": "python",
   "nbconvert_exporter": "python",
   "pygments_lexer": "ipython3",
   "version": "3.12.2"
  }
 },
 "nbformat": 4,
 "nbformat_minor": 2
}
